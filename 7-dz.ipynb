from datetime import datetime
periodica = ('The Moscow Times - Wednesday, October 2, 2002',
'The Guardian -Friday, 11.10.13',
'Daily News - Thursday, 18 August 1977')

for line in periodica:
    line2 = line.strip().split('-')
    if line2[0] in 'The Moscow Times':
        line2[1].strptime('Wednesday, October 2, 2002', '%a, %B, %d, %Y')
    elif line2[0] in 'The Guardian':
        line2[1].strptime('Friday, 11.10.13','%a,%d,%m,%y')
    elif line2[0] in 'Daily News':
        line2[1].strptime('Thursday, 18 August 1977','%a, %d, %B, %Y')
print(periodica)


stream = ['2018-04-02', '2018-02-29', '2018-19-02']


stream = ['2018-04-02', '2018-02-29', '2018-19-02']

import datetime

def correct(stream):
    try:
        datetime.datetime.strptime(stream, '%Y-%m-%d')
        return True
    except:
        return False
    
for d in stream:
    print(correct(d))

Задание 3
Напишите функцию date_range, которая возвращает список дат за период от start_date до end_date. Даты должны вводиться в формате YYYY-MM-DD. В случае неверного формата или при start_date > end_date должен возвращаться пустой список.

from datetime import date, datetime, timedelta

def date_range(date):
    start_date = input('Введите начальную дату в формате YYYY-MM-DD')
    end_date = input('Введите конечную дату в формате YYYY-MM-DD')
    pusto = []
    try:
        start_date_1 = datetime.strptime(start_date, '%Y-%m-%d')
        end_date_1 = datetime.strptime(end_date, '%Y-%m-%d')
    except:
        return pusto
    if start_date_1 > end_date_1:
         return pusto

    delta = (end_date_1 -  start_date_1)   
    
    for i in range(delta.days + 1):
            print((start_date_1 + timedelta(i)).strftime('%Y-%m-%d'))
date_range(date)
